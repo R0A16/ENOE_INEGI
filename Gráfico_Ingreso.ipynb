{
 "cells": [
  {
   "cell_type": "code",
   "execution_count": 1,
   "metadata": {
    "vscode": {
     "languageId": "r"
    }
   },
   "outputs": [
    {
     "name": "stderr",
     "output_type": "stream",
     "text": [
      "\n",
      "Attaching package: 'dplyr'\n",
      "\n",
      "\n",
      "The following objects are masked from 'package:stats':\n",
      "\n",
      "    filter, lag\n",
      "\n",
      "\n",
      "The following objects are masked from 'package:base':\n",
      "\n",
      "    intersect, setdiff, setequal, union\n",
      "\n",
      "\n",
      "\n",
      "Attaching package: 'gridExtra'\n",
      "\n",
      "\n",
      "The following object is masked from 'package:dplyr':\n",
      "\n",
      "    combine\n",
      "\n",
      "\n"
     ]
    }
   ],
   "source": [
    "library(dplyr)\n",
    "library(readr)\n",
    "library(foreign)\n",
    "library(gridExtra)\n",
    "library(ggthemes)\n",
    "library(ggplot2)\n",
    "pacman::p_load(tidyverse, haven, sjlabelled, janitor, srvyr)"
   ]
  },
  {
   "cell_type": "code",
   "execution_count": 2,
   "metadata": {
    "vscode": {
     "languageId": "r"
    }
   },
   "outputs": [],
   "source": [
    "SDEM <- read_dta(\"/R/ENOE_SDEMT124.dta\") # Archivo .dta para leer etiquetas correspondiente al primer trimestre de 2024"
   ]
  },
  {
   "cell_type": "code",
   "execution_count": 3,
   "metadata": {
    "vscode": {
     "languageId": "r"
    }
   },
   "outputs": [],
   "source": [
    "base_des <- SDEM %>% # Descripción de las variables de la encuesta: https://www.inegi.org.mx/contenidos/programas/enoe/15ymas/doc/enoe_n_fd_c_bas_amp.pdf\n",
    "  select(c(sex, eda, niv_ins, cd_a, # características de la población\n",
    "           rama_est1, clase2, clase1, rama_est2, rama, seg_soc, scian, clase3, nac_anio, # sector de ocupación\n",
    "           c_ocu11c, emp_ppal, emple7c, tue2, tue1, eda7c, t_tra, ambito2, cs_p13_1, # condiciones laborales\n",
    "           ing7c, ingocup, ing_x_hrs, hrsocup, dur9c, tue_ppal, eda19c, remune2c, tcco, # nivel de ingresos\n",
    "           fac_tri, upm, ent, mun, c_res, pos_ocu)) # factor de expansión"
   ]
  },
  {
   "cell_type": "code",
   "execution_count": 4,
   "metadata": {
    "vscode": {
     "languageId": "r"
    }
   },
   "outputs": [],
   "source": [
    "base_des1 <- base_des %>% # nueva base con población ocupada mayor a 14 años que reportan ingresos\n",
    "  filter(eda > 14 & clase2 == 1 & pos_ocu != 4 & ingocup <60000 & ingocup > 0) %>% # población ocupada con ingreso mensual menor a los 60,000 pesos\n",
    "  mutate_at(vars(emp_ppal), as_label) # agrupar por condición de formalidad"
   ]
  },
  {
   "cell_type": "code",
   "execution_count": 5,
   "metadata": {
    "vscode": {
     "languageId": "r"
    }
   },
   "outputs": [],
   "source": [
    "Formalidad <- factor(base_des1$emp_ppal)\n",
    "\n",
    "cols <- c(\"#00FFFF\", \"#99CC00\")"
   ]
  },
  {
   "cell_type": "code",
   "execution_count": 21,
   "metadata": {
    "vscode": {
     "languageId": "r"
    }
   },
   "outputs": [],
   "source": [
    "# Gráfico para conocer la distribución del ingreso mensual según condición de formalidad\n",
    "p <- ggplot(base_des1, aes(x=ingocup, fill = Formalidad)) + geom_density(color=\"black\",alpha=.5) + scale_fill_manual(values = cols) + \n",
    "  theme_solarized(light=FALSE) +\n",
    "  ggtitle(\"Distribución del ingreso de la población ocupada\\npor condición de formalidad\") + \n",
    "  xlab(\"Ingreso mensual\") + ylab(\"Densidad\") + \n",
    "  theme(legend.position = c(.8, .8), legend.justification = c(\"right\", \"top\"),\n",
    "        legend.box.just = \"right\", legend.margin = margin(6,6,6,6)) +\n",
    "  labs(caption = \"Fuente: Encuesta Nacional de Ocupación y Empleo al 1T-24\") +\n",
    "  theme(plot.caption = element_text(size = 7.5, hjust = 0))\n",
    "\n",
    "ggsave(\"figure1.png\", dpi=300, dev='png', width=7.8, height=5.5)"
   ]
  },
  {
   "cell_type": "code",
   "execution_count": 23,
   "metadata": {
    "vscode": {
     "languageId": "r"
    }
   },
   "outputs": [
    {
     "data": {
      "text/html": [
       "<table class=\"dataframe\">\n",
       "<caption>A tibble: 2 × 2</caption>\n",
       "<thead>\n",
       "\t<tr><th scope=col>as_label(emp_ppal)</th><th scope=col>mediana</th></tr>\n",
       "\t<tr><th scope=col>&lt;fct&gt;</th><th scope=col>&lt;dbl&gt;</th></tr>\n",
       "</thead>\n",
       "<tbody>\n",
       "\t<tr><td>Empleo informal</td><td> 6450</td></tr>\n",
       "\t<tr><td>Empleo formal  </td><td>10105</td></tr>\n",
       "</tbody>\n",
       "</table>\n"
      ],
      "text/latex": [
       "A tibble: 2 × 2\n",
       "\\begin{tabular}{ll}\n",
       " as\\_label(emp\\_ppal) & mediana\\\\\n",
       " <fct> & <dbl>\\\\\n",
       "\\hline\n",
       "\t Empleo informal &  6450\\\\\n",
       "\t Empleo formal   & 10105\\\\\n",
       "\\end{tabular}\n"
      ],
      "text/markdown": [
       "\n",
       "A tibble: 2 × 2\n",
       "\n",
       "| as_label(emp_ppal) &lt;fct&gt; | mediana &lt;dbl&gt; |\n",
       "|---|---|\n",
       "| Empleo informal |  6450 |\n",
       "| Empleo formal   | 10105 |\n",
       "\n"
      ],
      "text/plain": [
       "  as_label(emp_ppal) mediana\n",
       "1 Empleo informal     6450  \n",
       "2 Empleo formal      10105  "
      ]
     },
     "metadata": {},
     "output_type": "display_data"
    }
   ],
   "source": [
    "base_des %>% # Ingreso mediano de la población ocupada en la formalidad e informalidad\n",
    " filter(eda>14 & clase2==1 & pos_ocu != 4 & ingocup>0) %>% \n",
    " mutate_at(vars(emp_ppal), as_label) %>%\n",
    " group_by(as_label(emp_ppal)) %>%\n",
    " summarise(mediana=median(ingocup))"
   ]
  }
 ],
 "metadata": {
  "kernelspec": {
   "display_name": "R",
   "language": "R",
   "name": "ir"
  },
  "language_info": {
   "codemirror_mode": "r",
   "file_extension": ".r",
   "mimetype": "text/x-r-source",
   "name": "R",
   "pygments_lexer": "r",
   "version": "4.1.3"
  }
 },
 "nbformat": 4,
 "nbformat_minor": 2
}
